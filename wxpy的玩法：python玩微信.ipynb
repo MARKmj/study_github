{
 "cells": [
  {
   "cell_type": "code",
   "execution_count": 26,
   "metadata": {},
   "outputs": [
    {
     "name": "stderr",
     "output_type": "stream",
     "text": [
      "Getting uuid of QR code.\n",
      "Downloading QR code.\n",
      "Please scan the QR code to log in.\n",
      "Please press confirm on your phone.\n",
      "Loading the contact, this may take a little while.\n",
      "Login successfully as 明鉴_Mario\n"
     ]
    }
   ],
   "source": [
    "# 导入模块\n",
    "from wxpy import *\n",
    "# 初始化机器人，扫码登陆\n",
    "bot = Bot()"
   ]
  },
  {
   "cell_type": "code",
   "execution_count": 28,
   "metadata": {},
   "outputs": [
    {
     "data": {
      "text/plain": [
       "[<Friend: 沙旭>]"
      ]
     },
     "execution_count": 28,
     "metadata": {},
     "output_type": "execute_result"
    }
   ],
   "source": [
    "# 搜索名称含有 \"游否\" 的男性深圳好友\n",
    "# my_friend = bot.friends().search('沙旭', sex=FEMALE, city=\"鸡西\")\n",
    "# [<Friend: 鼎派电动车修理明立伟>]\n",
    "my_friend = bot.friends().search('沙旭', sex=FEMALE)\n",
    "my_friend"
   ]
  },
  {
   "cell_type": "code",
   "execution_count": 29,
   "metadata": {},
   "outputs": [
    {
     "ename": "AttributeError",
     "evalue": "'Chats' object has no attribute 'send'",
     "output_type": "error",
     "traceback": [
      "\u001b[0;31m---------------------------------------------------------------------------\u001b[0m",
      "\u001b[0;31mAttributeError\u001b[0m                            Traceback (most recent call last)",
      "\u001b[0;32m<ipython-input-29-ec57b7e4ac0a>\u001b[0m in \u001b[0;36m<module>\u001b[0;34m\u001b[0m\n\u001b[1;32m      1\u001b[0m \u001b[0;31m# 发送文本给好友\u001b[0m\u001b[0;34m\u001b[0m\u001b[0;34m\u001b[0m\u001b[0;34m\u001b[0m\u001b[0m\n\u001b[0;32m----> 2\u001b[0;31m \u001b[0mmy_friend\u001b[0m\u001b[0;34m.\u001b[0m\u001b[0msend\u001b[0m\u001b[0;34m(\u001b[0m\u001b[0;34m'Hello WeChat!'\u001b[0m\u001b[0;34m)\u001b[0m\u001b[0;34m\u001b[0m\u001b[0;34m\u001b[0m\u001b[0m\n\u001b[0m\u001b[1;32m      3\u001b[0m \u001b[0;31m# 发送图片\u001b[0m\u001b[0;34m\u001b[0m\u001b[0;34m\u001b[0m\u001b[0;34m\u001b[0m\u001b[0m\n\u001b[1;32m      4\u001b[0m \u001b[0;31m# my_friend.send_image('my_picture.jpg')\u001b[0m\u001b[0;34m\u001b[0m\u001b[0;34m\u001b[0m\u001b[0;34m\u001b[0m\u001b[0m\n",
      "\u001b[0;31mAttributeError\u001b[0m: 'Chats' object has no attribute 'send'"
     ]
    }
   ],
   "source": [
    "# 发送文本给好友\n",
    "my_friend.send('Hello WeChat!')\n",
    "# 发送图片\n",
    "# my_friend.send_image('my_picture.jpg')"
   ]
  },
  {
   "cell_type": "code",
   "execution_count": 30,
   "metadata": {},
   "outputs": [
    {
     "name": "stdout",
     "output_type": "stream",
     "text": [
      "脱氧硬糖 : 大结局她飒上热搜，这个“致命女人”凭什么征服好莱坞？ (Sharing)\n"
     ]
    }
   ],
   "source": [
    "# 打印来自其他好友、群聊和公众号的消息\n",
    "@bot.register()\n",
    "def print_others(msg):\n",
    "    print(msg)"
   ]
  },
  {
   "cell_type": "code",
   "execution_count": null,
   "metadata": {},
   "outputs": [],
   "source": [
    "# 回复 my_friend 的消息 (优先匹配后注册的函数!)\n",
    "@bot.register(my_friend)\n",
    "def reply_my_friend(msg):\n",
    "    return 'received: {} ({})'.format(msg.text, msg.type)"
   ]
  },
  {
   "cell_type": "code",
   "execution_count": null,
   "metadata": {},
   "outputs": [],
   "source": [
    "# 自动接受新的好友请求\n",
    "@bot.register(msg_types=FRIENDS)\n",
    "def auto_accept_friends(msg):\n",
    "    # 接受好友请求\n",
    "    new_friend = msg.card.accept()\n",
    "    # 向新的好友发送消息\n",
    "    new_friend.send('哈哈，我自动接受了你的好友请求')"
   ]
  },
  {
   "cell_type": "code",
   "execution_count": 31,
   "metadata": {},
   "outputs": [
    {
     "ename": "MultipleInstanceError",
     "evalue": "Multiple incompatible subclass instances of InteractiveShellEmbed are being created.",
     "output_type": "error",
     "traceback": [
      "\u001b[0;31m---------------------------------------------------------------------------\u001b[0m",
      "\u001b[0;31mMultipleInstanceError\u001b[0m                     Traceback (most recent call last)",
      "\u001b[0;32m<ipython-input-31-75c4088d3361>\u001b[0m in \u001b[0;36m<module>\u001b[0;34m\u001b[0m\n\u001b[1;32m      1\u001b[0m \u001b[0;31m# 进入 Python 命令行、让程序保持运行\u001b[0m\u001b[0;34m\u001b[0m\u001b[0;34m\u001b[0m\u001b[0;34m\u001b[0m\u001b[0m\n\u001b[0;32m----> 2\u001b[0;31m \u001b[0membed\u001b[0m\u001b[0;34m(\u001b[0m\u001b[0;34m)\u001b[0m\u001b[0;34m\u001b[0m\u001b[0;34m\u001b[0m\u001b[0m\n\u001b[0m\u001b[1;32m      3\u001b[0m \u001b[0;34m\u001b[0m\u001b[0m\n\u001b[1;32m      4\u001b[0m \u001b[0;31m# 或者仅仅堵塞线程\u001b[0m\u001b[0;34m\u001b[0m\u001b[0;34m\u001b[0m\u001b[0;34m\u001b[0m\u001b[0m\n\u001b[1;32m      5\u001b[0m \u001b[0;31m# bot.join()\u001b[0m\u001b[0;34m\u001b[0m\u001b[0;34m\u001b[0m\u001b[0;34m\u001b[0m\u001b[0m\n",
      "\u001b[0;32m~/opt/anaconda3/lib/python3.7/site-packages/wxpy/utils/console.py\u001b[0m in \u001b[0;36membed\u001b[0;34m(local, banner, shell)\u001b[0m\n\u001b[1;32m     72\u001b[0m     \u001b[0;32mfor\u001b[0m \u001b[0m_shell\u001b[0m \u001b[0;32min\u001b[0m \u001b[0mshell\u001b[0m\u001b[0;34m,\u001b[0m \u001b[0m_ipython\u001b[0m\u001b[0;34m,\u001b[0m \u001b[0m_bpython\u001b[0m\u001b[0;34m,\u001b[0m \u001b[0m_python\u001b[0m\u001b[0;34m:\u001b[0m\u001b[0;34m\u001b[0m\u001b[0;34m\u001b[0m\u001b[0m\n\u001b[1;32m     73\u001b[0m         \u001b[0;32mtry\u001b[0m\u001b[0;34m:\u001b[0m\u001b[0;34m\u001b[0m\u001b[0;34m\u001b[0m\u001b[0m\n\u001b[0;32m---> 74\u001b[0;31m             \u001b[0m_shell\u001b[0m\u001b[0;34m(\u001b[0m\u001b[0mlocal\u001b[0m\u001b[0;34m=\u001b[0m\u001b[0mlocal\u001b[0m\u001b[0;34m,\u001b[0m \u001b[0mbanner\u001b[0m\u001b[0;34m=\u001b[0m\u001b[0mbanner\u001b[0m\u001b[0;34m)\u001b[0m\u001b[0;34m\u001b[0m\u001b[0;34m\u001b[0m\u001b[0m\n\u001b[0m\u001b[1;32m     75\u001b[0m         \u001b[0;32mexcept\u001b[0m \u001b[0;34m(\u001b[0m\u001b[0mTypeError\u001b[0m\u001b[0;34m,\u001b[0m \u001b[0mImportError\u001b[0m\u001b[0;34m)\u001b[0m\u001b[0;34m:\u001b[0m\u001b[0;34m\u001b[0m\u001b[0;34m\u001b[0m\u001b[0m\n\u001b[1;32m     76\u001b[0m             \u001b[0;32mcontinue\u001b[0m\u001b[0;34m\u001b[0m\u001b[0;34m\u001b[0m\u001b[0m\n",
      "\u001b[0;32m~/opt/anaconda3/lib/python3.7/site-packages/wxpy/utils/console.py\u001b[0m in \u001b[0;36m_ipython\u001b[0;34m(local, banner)\u001b[0m\n\u001b[1;32m     15\u001b[0m         \u001b[0mbanner1\u001b[0m\u001b[0;34m=\u001b[0m\u001b[0mbanner\u001b[0m\u001b[0;34m,\u001b[0m\u001b[0;34m\u001b[0m\u001b[0;34m\u001b[0m\u001b[0m\n\u001b[1;32m     16\u001b[0m         \u001b[0muser_ns\u001b[0m\u001b[0;34m=\u001b[0m\u001b[0mlocal\u001b[0m\u001b[0;34m,\u001b[0m\u001b[0;34m\u001b[0m\u001b[0;34m\u001b[0m\u001b[0m\n\u001b[0;32m---> 17\u001b[0;31m         \u001b[0mconfig\u001b[0m\u001b[0;34m=\u001b[0m\u001b[0mload_default_config\u001b[0m\u001b[0;34m(\u001b[0m\u001b[0;34m)\u001b[0m\u001b[0;34m\u001b[0m\u001b[0;34m\u001b[0m\u001b[0m\n\u001b[0m\u001b[1;32m     18\u001b[0m     )\n\u001b[1;32m     19\u001b[0m     \u001b[0mshell\u001b[0m\u001b[0;34m(\u001b[0m\u001b[0;34m)\u001b[0m\u001b[0;34m\u001b[0m\u001b[0;34m\u001b[0m\u001b[0m\n",
      "\u001b[0;32m~/opt/anaconda3/lib/python3.7/site-packages/traitlets/config/configurable.py\u001b[0m in \u001b[0;36minstance\u001b[0;34m(cls, *args, **kwargs)\u001b[0m\n\u001b[1;32m    421\u001b[0m             raise MultipleInstanceError(\n\u001b[1;32m    422\u001b[0m                 \u001b[0;34m'Multiple incompatible subclass instances of '\u001b[0m\u001b[0;34m\u001b[0m\u001b[0;34m\u001b[0m\u001b[0m\n\u001b[0;32m--> 423\u001b[0;31m                 \u001b[0;34m'%s are being created.'\u001b[0m \u001b[0;34m%\u001b[0m \u001b[0mcls\u001b[0m\u001b[0;34m.\u001b[0m\u001b[0m__name__\u001b[0m\u001b[0;34m\u001b[0m\u001b[0;34m\u001b[0m\u001b[0m\n\u001b[0m\u001b[1;32m    424\u001b[0m             )\n\u001b[1;32m    425\u001b[0m \u001b[0;34m\u001b[0m\u001b[0m\n",
      "\u001b[0;31mMultipleInstanceError\u001b[0m: Multiple incompatible subclass instances of InteractiveShellEmbed are being created."
     ]
    },
    {
     "name": "stdout",
     "output_type": "stream",
     "text": [
      "全球超级汽车榜 : 10个最火的“偷拍”瞬间，99%的人看完飙泪！ (Sharing)\n",
      "环球网 : 这次，林郑面带微笑。 (Sharing)\n",
      "冷笑话 : 47岁火葬工，火化尸体时炉口看到的！ (Sharing)\n",
      "大数据机器学习AI › 王健旭 : (Attachment)\n",
      "大数据机器学习AI › 王健旭 : (Attachment)\n",
      "大数据机器学习AI › 王健旭 : (Attachment)\n",
      "大数据机器学习AI › 王健旭 : (Attachment)\n",
      "大数据机器学习AI › 王健旭 : (Attachment)\n",
      "大数据机器学习AI › 王健旭 : (Attachment)\n",
      "大数据机器学习AI › 王健旭 : (Attachment)\n",
      "大数据机器学习AI › 王健旭 : (Attachment)\n",
      "大数据机器学习AI › 王健旭 : (Attachment)\n",
      "大数据机器学习AI › 王健旭 : (Attachment)\n",
      "大数据机器学习AI › 王健旭 : (Attachment)\n",
      "大数据机器学习AI › 王健旭 : (Attachment)\n",
      "大数据机器学习AI › 王健旭 : (Attachment)\n",
      "大数据机器学习AI › 王健旭 : (Attachment)\n",
      "大数据机器学习AI › 王健旭 : (Attachment)\n",
      "大数据机器学习AI › 王健旭 : (Attachment)\n",
      "大数据机器学习AI › 王健旭 : (Attachment)\n",
      "大数据机器学习AI › 王健旭 : (Attachment)\n",
      "大数据机器学习AI › 王健旭 : (Attachment)\n",
      "大数据机器学习AI › 王健旭 : (Attachment)\n",
      "大数据机器学习AI › 王健旭 : (Attachment)\n",
      "大数据机器学习AI › 王健旭 : (Attachment)\n",
      "大数据机器学习AI › 王健旭 : (Attachment)\n",
      "大数据机器学习AI › 杜雨珊 : 比捡钱还爽[Aaagh!] (Text)\n",
      "大数据机器学习AI › 邓一鸣 : 这是黄金 (Text)\n",
      "大数据机器学习AI › 邓一鸣 : (Picture)\n",
      "YO16禁止说话只发资源 › yoyo号3 : 《斗罗D陆》2019.同步连载。链接：https://pan.baidu.com/s/1Hmro_Xa_4NVe4PO2Qmux4A&shfl=sharepset 提取码：5Ql2   ↩  ↩ 沙皇帝国：俄罗斯罗曼诺夫王朝。链接：https://pan.baidu.com/s/1ZjziHY6NmdCQME7lSR7m3w&shfl=sharepset 提取码：B5cY   ↩  ↩ 《嗨唱转Q来》2019.同步连载。链接：https://pan.baidu.com/s/1c_QTqHJl8H8lr5W_mokU8Q&shfl=sharepset 提取码：OQ01   ↩  ↩ 《泰伽奥特曼》2019.同步连载。链接：https://pan.baidu.com/s/1qwuQ4Lf9I-fozIoEaastVg&shfl=sharepset 提取码：4LsV   ↩  ↩ 《金色丈夫》2019.同步连载。链接：https://pan.baidu.com/s/1DgJpdqs9Px0C0-RH_OqIDg&shfl=sharepset 提取码：N5nl   ↩  ↩ 《男儿本色三部曲之钻》2019.同步连载。链接：https://pan.baidu.com/s/1-JgS8U6FuOO4H5BNUyDQDg&shfl=sharepset 提取码：Zbbw   (Text)\n",
      "北京合租找室友4群 : 北京 invited 蔡昕屿 to the group chat (Note)\n",
      "北京无中介租房88群 : 阿瞇🔆Eason invited 蔡昕屿 to the group chat (Note)\n",
      "北京无中介租房88群 : Note: \"蔡昕屿\" is not WeChat friends with anyone else in this group chat. (Note)\n",
      "篮球实战宝典 : 赛季报销！4000万先生秒变最贵教练，还是助教！ (Sharing)\n",
      "北京合租找室友4群 › 群助手 : 欢迎来到「合租找室友」租房群，发现中介请举报～ ↩ 提高租房效率的几种方法： ↩ 1、在公众号菜单栏点【发布】将转租、找室友、求租信息发布到平台，所有租房群都可以同步看到 ↩ 2、多转发帖子到各租房群，让更多人看到 ↩ 3、生成帖子海报分享到豆瓣租房小组，加速传播 ↩ 4、回复“快速出租”，可获得更多加速方法~ ↩  ↩ @蔡昕屿  (Text)\n",
      "北京合租找室友4群 › 群助手 : 合租找室友APP (Card)\n",
      "北京无中介租房88群 › 群助手 : 欢迎来到「合租找室友」租房群，发现中介请举报～ ↩ 提高租房效率的几种方法： ↩ 1、在公众号菜单栏点【发布】将转租、找室友、求租信息发布到平台，所有租房群都可以同步看到 ↩ 2、多转发帖子到各租房群，让更多人看到 ↩ 3、生成帖子海报分享到豆瓣租房小组，加速传播 ↩ 4、回复“快速出租”，可获得更多加速方法~ ↩  ↩ @蔡昕屿  (Text)\n",
      "北京无中介租房88群 › 群助手 : 合租找室友APP (Card)\n",
      "专属班主任老师-洛基Sigal : (Picture)\n",
      "大数据机器学习AI › 王健旭 : (Picture)\n",
      "YO16禁止说话只发资源 › yoyo号3 : ⚠️⚠️⚠️快快快，全民疯抢[Scream][Scream]（限购一件） ↩ 小时候认识的背背佳一样， ↩ 那时候598一件，超级贵‼️‼️‼️  ↩ 今天，我们背背佳同款秒杀，14元🉐 ↩ 一样的功能性，学生，上班族，低头族必备，抬头挺胸，防驼背，保持曼妙身材。 ↩ ⚠️速抢地址https://dwz.cn/hLni0LqJ ↩  (Text)\n",
      "每日经济新闻 : 曾坐拥3家A股公司的哈佛博士出事了，法院重金悬赏抓人！ (Sharing)\n",
      "YO16禁止说话只发资源 › yoyo号3 : (Video)\n",
      "大数据机器学习AI › 王健旭 : (Picture)\n",
      "2019交大二手物品交易群 › 学硕车辆刘寒 : 急急急！帮我点一下就好啦，爱你哟 (◡‿◡♥) (Sharing)\n",
      "北京合租找室友4群 › Channychu : 【转租】地铁旁，楼王位置，安静，室友友好，房子通透明亮 (Sharing)\n",
      "北京合租找室友4群 › 蔡昕屿 : 青年路十里堡求租🙏2千左右集中供暖 (Text)\n",
      "北京无中介租房88群 › 蔡昕屿 : 青年路十里堡求租🙏2千左右集中供暖 (Text)\n",
      "python : python爬虫神器 Pyppeteer使用方法解析 (Sharing)\n",
      "英语奇葩秀 : 掌握这个方法，零基础也能高效练习口语！ (Sharing)\n",
      "中国铁路 : 闪耀盛会！复兴号呼啸而至，中欧班列鸣笛远行！ (Sharing)\n",
      "人民日报 : 首金！ (Sharing)\n",
      "大数据机器学习AI › 王健旭 : (Attachment)\n",
      "大数据机器学习AI › 王健旭 : (Attachment)\n",
      "大数据机器学习AI › 王健旭 : (Attachment)\n",
      "大数据机器学习AI › 王健旭 : (Attachment)\n",
      "大数据机器学习AI › 王健旭 : (Attachment)\n",
      "YO16禁止说话只发资源 › yoyo号3 : 👉口红超级漏洞神单‼️ ↩       原价247.9💵 ↩    现在只要39💵 ↩  ↩ 【MAC】各大网红力推款口红💄上次抢过的宝宝都等着下次活动😂快，手慢无🈚预计几个小时内活动结束，下架！没看到的也没办法了！有运费险，退换无忧！ ↩  ↩ 💚速抢地址https://dwz.cn/UPFRNufN (Text)\n",
      "YO16禁止说话只发资源 › yoyo号3 : (Picture)\n",
      "长客青年 : 长客股份公司团委召开学习贯彻中国中车第一次团代会精神专题会议 (Sharing)\n",
      "国际人亿元俱乐部 › 袁国烨 : 据说app mau买量的盘子是15亿 (Text)\n",
      "国际人亿元俱乐部 › 袁国烨 : 我们就有在做阿里和爱奇艺的唤起沉默用户的业务😂 (Text)\n",
      "国际人亿元俱乐部 › 国际人学员 李明鹏 : 老用户吊起激活？ (Text)\n",
      "国际人亿元俱乐部 › 国际人学员 李明鹏 : deeplink？ (Text)\n",
      "国际人亿元俱乐部 › 袁国烨 : 对 (Text)\n",
      "国际人亿元俱乐部 › 袁国烨 : 阿里的deeplink吊起做的超棒 ，甩爱奇艺好几条街 (Text)\n",
      "北京无中介租房38群 › 群主-请使用合租找室友小程序转发 : （帮转）小型loft ↩ 1室0厅1卫 ↩ 无中介费，直接与公寓签合同 ↩ 独立卫生间，支持洗衣做饭等等 ↩ 希望你爱干净、有正当工作 ↩ 不可带异性回家 (Text)\n",
      "北京无中介租房38群 › 群主-请使用合租找室友小程序转发 : 【找室友】六里桥地铁站附近求女室友 (Sharing)\n",
      "北京无中介租房88群 › 群主-请使用合租找室友小程序转发 : （帮转）小型loft ↩ 1室0厅1卫 ↩ 无中介费，直接与公寓签合同 ↩ 独立卫生间，支持洗衣做饭等等 ↩ 希望你爱干净、有正当工作 ↩ 不可带异性回家 (Text)\n",
      "北京无中介租房88群 › 群主-请使用合租找室友小程序转发 : 【找室友】六里桥地铁站附近求女室友 (Sharing)\n",
      "北京合租找室友4群 › 群主-请使用合租找室友小程序转发 : （帮转）小型loft ↩ 1室0厅1卫 ↩ 无中介费，直接与公寓签合同 ↩ 独立卫生间，支持洗衣做饭等等 ↩ 希望你爱干净、有正当工作 ↩ 不可带异性回家 (Text)\n",
      "北京合租找室友4群 › 群主-请使用合租找室友小程序转发 : 【找室友】六里桥地铁站附近求女室友 (Sharing)\n",
      "北京合租找室友1群 › 群主-请使用合租找室友小程序转发 : （帮转）小型loft ↩ 1室0厅1卫 ↩ 无中介费，直接与公寓签合同 ↩ 独立卫生间，支持洗衣做饭等等 ↩ 希望你爱干净、有正当工作 ↩ 不可带异性回家 (Text)\n",
      "阿旗大学毕业群 › 巴拉奇如德 冬梅 : 帮忙投个票啦  谢谢~ (Text)\n",
      "阿旗大学毕业群 › 巴拉奇如德 冬梅 : 到满洲里的火车票太难抢啦，需要你助我一臂之力！ (Sharing)\n",
      "时代国际语言中心 : 重磅！雅思报名费又涨啦！2020年托福、雅思考试时间公布！ (Sharing)\n",
      "爱思益求职 : 10月最后一波网申表！字节跳动、B站、强生等900家名企可投！（含网申链接+截止时间） (Sharing)\n"
     ]
    }
   ],
   "source": [
    "# 进入 Python 命令行、让程序保持运行\n",
    "embed()\n",
    "\n",
    "# 或者仅仅堵塞线程\n",
    "# bot.join()"
   ]
  },
  {
   "cell_type": "code",
   "execution_count": null,
   "metadata": {},
   "outputs": [],
   "source": []
  },
  {
   "cell_type": "code",
   "execution_count": null,
   "metadata": {},
   "outputs": [],
   "source": []
  },
  {
   "cell_type": "code",
   "execution_count": null,
   "metadata": {},
   "outputs": [],
   "source": []
  },
  {
   "cell_type": "code",
   "execution_count": null,
   "metadata": {},
   "outputs": [],
   "source": []
  },
  {
   "cell_type": "code",
   "execution_count": null,
   "metadata": {},
   "outputs": [],
   "source": []
  },
  {
   "cell_type": "code",
   "execution_count": null,
   "metadata": {},
   "outputs": [],
   "source": []
  },
  {
   "cell_type": "code",
   "execution_count": null,
   "metadata": {},
   "outputs": [],
   "source": []
  },
  {
   "cell_type": "code",
   "execution_count": null,
   "metadata": {},
   "outputs": [],
   "source": []
  },
  {
   "cell_type": "code",
   "execution_count": null,
   "metadata": {},
   "outputs": [],
   "source": []
  },
  {
   "cell_type": "code",
   "execution_count": null,
   "metadata": {},
   "outputs": [],
   "source": []
  },
  {
   "cell_type": "code",
   "execution_count": null,
   "metadata": {},
   "outputs": [],
   "source": []
  },
  {
   "cell_type": "code",
   "execution_count": null,
   "metadata": {},
   "outputs": [],
   "source": []
  },
  {
   "cell_type": "code",
   "execution_count": null,
   "metadata": {},
   "outputs": [],
   "source": []
  },
  {
   "cell_type": "code",
   "execution_count": null,
   "metadata": {},
   "outputs": [],
   "source": []
  },
  {
   "cell_type": "code",
   "execution_count": null,
   "metadata": {},
   "outputs": [],
   "source": []
  },
  {
   "cell_type": "code",
   "execution_count": null,
   "metadata": {},
   "outputs": [],
   "source": []
  },
  {
   "cell_type": "code",
   "execution_count": null,
   "metadata": {},
   "outputs": [],
   "source": []
  },
  {
   "cell_type": "code",
   "execution_count": null,
   "metadata": {},
   "outputs": [],
   "source": []
  },
  {
   "cell_type": "code",
   "execution_count": null,
   "metadata": {},
   "outputs": [],
   "source": []
  },
  {
   "cell_type": "code",
   "execution_count": 4,
   "metadata": {},
   "outputs": [
    {
     "data": {
      "text/plain": [
       "<Friend: 鼎派电动车修理明立伟>"
      ]
     },
     "execution_count": 4,
     "metadata": {},
     "output_type": "execute_result"
    }
   ],
   "source": []
  },
  {
   "cell_type": "code",
   "execution_count": null,
   "metadata": {},
   "outputs": [],
   "source": []
  },
  {
   "cell_type": "code",
   "execution_count": null,
   "metadata": {},
   "outputs": [],
   "source": []
  }
 ],
 "metadata": {
  "kernelspec": {
   "display_name": "Python 3",
   "language": "python",
   "name": "python3"
  },
  "language_info": {
   "codemirror_mode": {
    "name": "ipython",
    "version": 3
   },
   "file_extension": ".py",
   "mimetype": "text/x-python",
   "name": "python",
   "nbconvert_exporter": "python",
   "pygments_lexer": "ipython3",
   "version": "3.7.4"
  }
 },
 "nbformat": 4,
 "nbformat_minor": 2
}
